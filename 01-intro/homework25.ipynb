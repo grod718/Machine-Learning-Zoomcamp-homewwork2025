{
 "cells": [
  {
   "cell_type": "code",
   "execution_count": 1,
   "id": "50469a06-7177-4435-a362-c388d3471022",
   "metadata": {},
   "outputs": [],
   "source": [
    "import pandas as pd\n",
    "import numpy as np"
   ]
  },
  {
   "cell_type": "code",
   "execution_count": 2,
   "id": "a366aca0-7a2a-495d-ae7b-68b369d5efe3",
   "metadata": {},
   "outputs": [],
   "source": [
    "df = pd.read_csv('https://raw.githubusercontent.com/alexeygrigorev/datasets/master/car_fuel_efficiency.csv')"
   ]
  },
  {
   "cell_type": "code",
   "execution_count": 3,
   "id": "c7ddf5a6-2ef6-4776-9603-9db68f897668",
   "metadata": {},
   "outputs": [
    {
     "data": {
      "text/plain": [
       "<bound method NDFrame.head of       engine_displacement  num_cylinders  horsepower  vehicle_weight  \\\n",
       "0                     170            3.0       159.0     3413.433759   \n",
       "1                     130            5.0        97.0     3149.664934   \n",
       "2                     170            NaN        78.0     3079.038997   \n",
       "3                     220            4.0         NaN     2542.392402   \n",
       "4                     210            1.0       140.0     3460.870990   \n",
       "...                   ...            ...         ...             ...   \n",
       "9699                  140            5.0       164.0     2981.107371   \n",
       "9700                  180            NaN       154.0     2439.525729   \n",
       "9701                  220            2.0       138.0     2583.471318   \n",
       "9702                  230            4.0       177.0     2905.527390   \n",
       "9703                  270            3.0       140.0     2908.043477   \n",
       "\n",
       "      acceleration  model_year  origin fuel_type         drivetrain  \\\n",
       "0             17.7        2003  Europe  Gasoline    All-wheel drive   \n",
       "1             17.8        2007     USA  Gasoline  Front-wheel drive   \n",
       "2             15.1        2018  Europe  Gasoline  Front-wheel drive   \n",
       "3             20.2        2009     USA    Diesel    All-wheel drive   \n",
       "4             14.4        2009  Europe  Gasoline    All-wheel drive   \n",
       "...            ...         ...     ...       ...                ...   \n",
       "9699          17.3        2013  Europe    Diesel  Front-wheel drive   \n",
       "9700          15.0        2004     USA  Gasoline    All-wheel drive   \n",
       "9701          15.1        2008     USA    Diesel    All-wheel drive   \n",
       "9702          19.4        2011     USA    Diesel  Front-wheel drive   \n",
       "9703          14.7        2005    Asia    Diesel    All-wheel drive   \n",
       "\n",
       "      num_doors  fuel_efficiency_mpg  \n",
       "0           0.0            13.231729  \n",
       "1           0.0            13.688217  \n",
       "2           0.0            14.246341  \n",
       "3           2.0            16.912736  \n",
       "4           2.0            12.488369  \n",
       "...         ...                  ...  \n",
       "9699        NaN            15.101802  \n",
       "9700        0.0            17.962326  \n",
       "9701       -1.0            17.186587  \n",
       "9702        1.0            15.331551  \n",
       "9703       -1.0            14.884467  \n",
       "\n",
       "[9704 rows x 11 columns]>"
      ]
     },
     "execution_count": 3,
     "metadata": {},
     "output_type": "execute_result"
    }
   ],
   "source": [
    "df.head"
   ]
  },
  {
   "cell_type": "code",
   "execution_count": 4,
   "id": "3ac15841-46a5-45bc-ad9d-d77b4fd09d00",
   "metadata": {},
   "outputs": [
    {
     "data": {
      "text/plain": [
       "9704"
      ]
     },
     "execution_count": 4,
     "metadata": {},
     "output_type": "execute_result"
    }
   ],
   "source": [
    "# Q2. Records count\n",
    "q2_records_count = len(df)\n",
    "q2_records_count"
   ]
  },
  {
   "cell_type": "code",
   "execution_count": 5,
   "id": "f0ea6ab3-8e93-4a3d-a4b8-76add66fd97d",
   "metadata": {},
   "outputs": [
    {
     "data": {
      "text/plain": [
       "2"
      ]
     },
     "execution_count": 5,
     "metadata": {},
     "output_type": "execute_result"
    }
   ],
   "source": [
    "q3_fuel_types = df['fuel_type'].nunique()\n",
    "q3_fuel_types"
   ]
  },
  {
   "cell_type": "code",
   "execution_count": 6,
   "id": "f61f3e45-0257-4cf9-9f0f-c7cbdfdcddcd",
   "metadata": {},
   "outputs": [],
   "source": [
    "# Q4. Missing values\n",
    "q4_missing_columns = df.isnull().sum()\n",
    "q4_columns_with_missing = (q4_missing_columns > 0).sum()"
   ]
  },
  {
   "cell_type": "code",
   "execution_count": 7,
   "id": "1f58339a-30e0-49ed-b088-80038e967b5b",
   "metadata": {},
   "outputs": [
    {
     "data": {
      "text/plain": [
       "nan"
      ]
     },
     "execution_count": 7,
     "metadata": {},
     "output_type": "execute_result"
    }
   ],
   "source": [
    "# Q5. Max fuel efficiency for cars from Asia\n",
    "q5_max_efficiency_asia = df[df['origin'] == 'asia']['fuel_efficiency_mpg'].max()\n",
    "q5_max_efficiency_asia"
   ]
  },
  {
   "cell_type": "code",
   "execution_count": 8,
   "id": "47f56936-936e-49c1-b671-2071a5efdb08",
   "metadata": {},
   "outputs": [],
   "source": [
    "# Q6. Median horsepower before and after filling missing values\n",
    "# Step 1: Original median\n",
    "q6_median_before = df['horsepower'].median()\n",
    "\n",
    "# Step 2: Most frequent value\n",
    "q6_most_freq = df['horsepower'].mode()[0]\n",
    "\n",
    "# Step 3: Fill missing values\n",
    "df['horsepower'] = df['horsepower'].fillna(q6_most_freq)\n",
    "\n",
    "# Step 4: New median\n",
    "q6_median_after = df['horsepower'].median()\n",
    "\n",
    "# Step 5: Has it changed?\n",
    "if q6_median_after > q6_median_before:\n",
    "    q6_change = \"Yes, it increased\"\n",
    "elif q6_median_after < q6_median_before:\n",
    "    q6_change = \"Yes, it decreased\"\n",
    "else:\n",
    "    q6_change = \"No\""
   ]
  },
  {
   "cell_type": "code",
   "execution_count": 9,
   "id": "86aaa8e6-1ca1-4922-984f-ad27b5f86d81",
   "metadata": {},
   "outputs": [
    {
     "ename": "NameError",
     "evalue": "name 'X' is not defined",
     "output_type": "error",
     "traceback": [
      "\u001b[31m---------------------------------------------------------------------------\u001b[39m",
      "\u001b[31mNameError\u001b[39m                                 Traceback (most recent call last)",
      "\u001b[36mCell\u001b[39m\u001b[36m \u001b[39m\u001b[32mIn[9]\u001b[39m\u001b[32m, line 2\u001b[39m\n\u001b[32m      1\u001b[39m \u001b[38;5;66;03m# Q7. Sum of weights via matrix operations (with pseudo-inverse)\u001b[39;00m\n\u001b[32m----> \u001b[39m\u001b[32m2\u001b[39m XTX = \u001b[43mX\u001b[49m.T.dot(X)\n\u001b[32m      3\u001b[39m XTX_inv = np.linalg.pinv(XTX)\n\u001b[32m      4\u001b[39m w = XTX_inv.dot(X.T).dot(y)\n",
      "\u001b[31mNameError\u001b[39m: name 'X' is not defined"
     ]
    }
   ],
   "source": [
    "# Q7. Sum of weights via matrix operations (with pseudo-inverse)\n",
    "XTX = X.T.dot(X)\n",
    "XTX_inv = np.linalg.pinv(XTX)\n",
    "w = XTX_inv.dot(X.T).dot(y)\n",
    "q7_sum_w = w.sum()\n",
    "\n",
    "print(\"Q7. Sum of weights result:\", q7_sum_w)"
   ]
  },
  {
   "cell_type": "code",
   "execution_count": null,
   "id": "767a89d7-bea9-458c-a76e-586072311b59",
   "metadata": {},
   "outputs": [],
   "source": []
  }
 ],
 "metadata": {
  "kernelspec": {
   "display_name": "Python 3 (ipykernel)",
   "language": "python",
   "name": "python3"
  },
  "language_info": {
   "codemirror_mode": {
    "name": "ipython",
    "version": 3
   },
   "file_extension": ".py",
   "mimetype": "text/x-python",
   "name": "python",
   "nbconvert_exporter": "python",
   "pygments_lexer": "ipython3",
   "version": "3.12.1"
  }
 },
 "nbformat": 4,
 "nbformat_minor": 5
}
